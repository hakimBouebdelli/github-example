{
 "cells": [
  {
   "cell_type": "markdown",
   "metadata": {},
   "source": [
    "**Data methods to use:**\n",
    "\n",
    "In order to accomplish this I will want to find the dispersion of Irish pub  from a 10 mile radius around Paris \n",
    "Then I will use folium to find the best place to put an Irish Bar . \n",
    "The idea is to not have two Irish Pub close together. \n",
    "Who would be interested in this (shareholders)?:\n",
    "Anyone looking to open a Irish Pub in Paris .\n",
    "\n",
    "**Data that will be used:**\n",
    "\n",
    "I will use the Foursquare API to bring in venues located near Paris.\n",
    "\n",
    "**Methodology:**\n",
    "\n",
    "I plan to use Foursquare API to bring the code in and Folium to show the location of Irish pub so that I can determine where a good location might be for a new business."
   ]
  },
  {
   "cell_type": "code",
   "execution_count": null,
   "metadata": {},
   "outputs": [],
   "source": []
  }
 ],
 "metadata": {
  "kernelspec": {
   "display_name": "Python",
   "language": "python",
   "name": "conda-env-python-py"
  },
  "language_info": {
   "codemirror_mode": {
    "name": "ipython",
    "version": 3
   },
   "file_extension": ".py",
   "mimetype": "text/x-python",
   "name": "python",
   "nbconvert_exporter": "python",
   "pygments_lexer": "ipython3",
   "version": "3.6.10"
  }
 },
 "nbformat": 4,
 "nbformat_minor": 4
}
