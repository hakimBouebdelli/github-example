{
 "cells": [
  {
   "cell_type": "markdown",
   "metadata": {},
   "source": [
    "**Introduction/Business Problem**  \n",
    "\n",
    "In this capstone project I have chose to figure out the best location in Paris to open an Irish pub based on Existing ones dispersion on the map \n",
    "\n",
    "**Background Discussion**\n",
    "\n",
    "Irish pub is an establishment licensed to serve alcoholic drinks for consumption on the premises. Irish pubs are characterised by a unique culture centred around a casual and friendly atmosphere, hearty food and drink, Irish sports, and traditional Irish music. \n",
    "Their widespread appeal has led to the Irish pub theme spreading around the world."
   ]
  },
  {
   "cell_type": "code",
   "execution_count": null,
   "metadata": {},
   "outputs": [],
   "source": []
  }
 ],
 "metadata": {
  "kernelspec": {
   "display_name": "Python",
   "language": "python",
   "name": "conda-env-python-py"
  },
  "language_info": {
   "codemirror_mode": {
    "name": "ipython",
    "version": 3
   },
   "file_extension": ".py",
   "mimetype": "text/x-python",
   "name": "python",
   "nbconvert_exporter": "python",
   "pygments_lexer": "ipython3",
   "version": "3.6.10"
  }
 },
 "nbformat": 4,
 "nbformat_minor": 4
}
